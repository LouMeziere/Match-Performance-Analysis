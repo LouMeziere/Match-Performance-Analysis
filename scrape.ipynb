{
 "cells": [
  {
   "cell_type": "code",
   "execution_count": 4,
   "metadata": {},
   "outputs": [],
   "source": [
    "from datetime import datetime\n",
    "from bs4 import BeautifulSoup\n",
    "import requests"
   ]
  },
  {
   "cell_type": "code",
   "execution_count": 9,
   "metadata": {},
   "outputs": [],
   "source": [
    "current_year = datetime.now().year\n",
    "\n",
    "url = f'https://fbref.com/en/squads/69a0fb10/{current_year - 1}/New-York-Red-Bulls-Stats'\n",
    "\n",
    "page = requests.get(url)\n",
    "\n",
    "soup = BeautifulSoup(page.text, 'html')"
   ]
  },
  {
   "cell_type": "code",
   "execution_count": 10,
   "metadata": {},
   "outputs": [
    {
     "name": "stdout",
     "output_type": "stream",
     "text": [
      "<!DOCTYPE html>\n",
      "<html lang=\"en-US\"><head><title>Just a moment...</title><meta content=\"text/html; charset=utf-8\" http-equiv=\"Content-Type\"/><meta content=\"IE=Edge\" http-equiv=\"X-UA-Compatible\"/><meta content=\"noindex,nofollow\" name=\"robots\"/><meta content=\"width=device-width,initial-scale=1\" name=\"viewport\"/><style>*{box-sizing:border-box;margin:0;padding:0}html{line-height:1.15;-webkit-text-size-adjust:100%;color:#313131;font-family:system-ui,-apple-system,BlinkMacSystemFont,Segoe UI,Roboto,Helvetica Neue,Arial,Noto Sans,sans-serif,Apple Color Emoji,Segoe UI Emoji,Segoe UI Symbol,Noto Color Emoji}body{display:flex;flex-direction:column;height:100vh;min-height:100vh}.main-content{margin:8rem auto;max-width:60rem;padding-left:1.5rem}@media (width <= 720px){.main-content{margin-top:4rem}}.h2{font-size:1.5rem;font-weight:500;line-height:2.25rem}@media (width <= 720px){.h2{font-size:1.25rem;line-height:1.5rem}}#challenge-error-text{background-image:url(data:image/svg+xml;base64,PHN2ZyB4bWxucz0iaHR0cDovL3d3dy53My5vcmcvMjAwMC9zdmciIHdpZHRoPSIzMiIgaGVpZ2h0PSIzMiIgZmlsbD0ibm9uZSI+PHBhdGggZmlsbD0iI0IyMEYwMyIgZD0iTTE2IDNhMTMgMTMgMCAxIDAgMTMgMTNBMTMuMDE1IDEzLjAxNSAwIDAgMCAxNiAzbTAgMjRhMTEgMTEgMCAxIDEgMTEtMTEgMTEuMDEgMTEuMDEgMCAwIDEtMTEgMTEiLz48cGF0aCBmaWxsPSIjQjIwRjAzIiBkPSJNMTcuMDM4IDE4LjYxNUgxNC44N0wxNC41NjMgOS41aDIuNzgzem0tMS4wODQgMS40MjdxLjY2IDAgMS4wNTcuMzg4LjQwNy4zODkuNDA3Ljk5NCAwIC41OTYtLjQwNy45ODQtLjM5Ny4zOS0xLjA1Ny4zODktLjY1IDAtMS4wNTYtLjM4OS0uMzk4LS4zODktLjM5OC0uOTg0IDAtLjU5Ny4zOTgtLjk4NS40MDYtLjM5NyAxLjA1Ni0uMzk3Ii8+PC9zdmc+);background-repeat:no-repeat;background-size:contain;padding-left:34px}@media (prefers-color-scheme:dark){body{background-color:#222;color:#d9d9d9}}</style><meta content=\"390\" http-equiv=\"refresh\"/></head><body class=\"no-js\"><div class=\"main-wrapper\" role=\"main\"><div class=\"main-content\"><noscript><div class=\"h2\"><span id=\"challenge-error-text\">Enable JavaScript and cookies to continue</span></div></noscript></div></div><script>(function(){window._cf_chl_opt={cvId: '3',cZone: \"fbref.com\",cType: 'managed',cRay: '920841d37e11a2e1',cH: '9qTfFeAF824TdIPSmPTs4EFeFgcRSbeBZFR3c3qGdBY-1742002348-1.2.1.1-jSshOIHKvCmgsiRAvgVR__icvFUULtdlXgtz9D_fABAxQ54Hp.v8GV5cS6bSFAui',cUPMDTk: \"\\/en\\/squads\\/69a0fb10\\/2024\\/New-York-Red-Bulls-Stats?__cf_chl_tk=3_PTR1lrDyXrLC3kjhNo2x4mRQOGQlMLy1wmjUtONVA-1742002348-1.0.1.1-3yh2_vIzlsopn3uDDfqyru7DGdxyd83wHOWhTKpOhb0\",cFPWv: 'g',cITimeS: '1742002348',cTTimeMs: '1000',cMTimeMs: '390000',cTplC: 0,cTplV: 5,cTplB: 'cf',cK: \"\",fa: \"\\/en\\/squads\\/69a0fb10\\/2024\\/New-York-Red-Bulls-Stats?__cf_chl_f_tk=3_PTR1lrDyXrLC3kjhNo2x4mRQOGQlMLy1wmjUtONVA-1742002348-1.0.1.1-3yh2_vIzlsopn3uDDfqyru7DGdxyd83wHOWhTKpOhb0\",md: \"sbI3y8Sz798deQA767tq_ODTi0G8BYxHdAxfQa3H4Ns-1742002348-1.2.1.1-h8cPjczFdlaCnGl5amkw1JCWgTi79XSgtW16e4GP.cSfeTtDVK_RsjnJb.7b62FXf1BNrQovZvvsJQJ9C1xWxYmuBcVRNtTPDEoH0wgHXlsb9sPGbHs4pKZ9AK_s2Y__f9soDyLGqqNdCgrTOWauRUgV7N8j4wjPPFvxYMau1pq4Vtd.VinIyX2ydIsaxhsJnYf.0eOuKDE0mwnyFqjMU5Wb.QMOgo2Jtqu6eZ5msQfCQcjplPdl0pmFY_V.zGweyRI_TyvYGSpyZVyT0gIbFey76Rt3196oTbZSPntCrfD11tcka6fyCIxnvcc2qdPFZc15Rd5vG8iHd6MpgCudQREQpkBnpKg6xr8ClcGoNhgUnLCXsXHigLtEagDu41PYUR0mkM5nTre3T6hx8qJKLEUv9G5Uytq7AF76apzugEayM.awz7ZD02sOKR22Y.fpajeJzu55zgB8Q6eux0fnSrpY_2FVzfSYnsA9IUw6xnwrBHWi5Sb6vlw1j1fek2ZHOjQI.HZSkCC7dGgXyfCZj7w_fcJzLsvMapCcG_kjaaA0gdfgtUtee.ma0ANR5VlyD5l97P0eHuE7uclBY_LjvL7g852G1MvGinys0a0ia4AYP.KGki9PdAIikzqJo92p6_TbSaaJLgQP1kZ5hwDKuGOiC5oGItwW_XkXj4R4LFqkCkypk2xpDCO3r3RjqA__SlLg3UXXhYhmWD9O56.FXcES.ZLt5Mx6tT2icwcQQJwWPkm6iHDcuuzUeu7jjY3_yhzvc17bLvcjaTY7oNtbrr6hBXvSqonIzvoHMe7hAmrpKxH1hI_lemxC.xecRStqaENVY6rSOrSzs6Rtdpz9hbejRImbLeSitdB836KSBQjUM6.FXfL7sdn0smDlkyniG.2K3gn8gdurORIsGMmPoM2osJVIKIMLxQRdrnW36gNHT0p6VCm9OXBIPyN2kepPAHDh3M4jbwGPRaNUrF9xRySUNhZ87LS9cFw882aaApiPQWu5aboqzNnarz6EP4ibOrs1_l4lpRS1zo.lHQZxixmgVSW549AcZbFk3Uh6jt3hmdAD48oX6SBSOeg7GFLN9TBWNeoetOPjJTalE9KrakaadfwvVz_6WTzCVsYMe64\",mdrd: \"qRaUPo9Fovd8Yu3s1owEOFVr_4p6OKTMgNys2Ok_Vtw-1742002348-1.2.1.1-.tyguRbMEvdfqm.e20KTiCotASjlaT5KaPT6uELqsoF8JRu8ouM7cWe4i5s5uhu5unl6XwDDUw_9jK26L2Cti5a5to_aQD.f9jrgtZ.CSF1iHzBrbTfe4RubJFLlsNeX05CPfU4Ra098tx4ftlT8rBVuOGeeEHG7Wpp7b2_cHI3dCRRo4gV_OFUb.VvHFuv96wvOg6kvfFi1nuJEa60wUFZ2ey44gDTJZd89J5pdfJ3NUcbx.9WUhcq10e0dqxdXhBytkUhZ_M2p5k0BSELwluUkL_NiotlP7EGUr0VUP_prFOQt6EwU9JhPvAXwzn.DNZzb7mkfrfc__TfH8hOM_IdWAzjB7QEucHA.xHhzsgIpmdjJZG8Idz1Tva9Z9IT4i9qL4ubkkJVERXOw8fW4ezeNILRB7CI_bryxLmcWaX6hQE6iMuacMthWFttcsadZbT4mzbBMslbNmB99T1Yk7N_eisrpYJPukmq_U0qpyzzhTBTN61LSmxqGX02X2Col6oKeX7R4rRdc_RO.mFFvDAJ8i8j98yBT.540_b5w.jbDe29Nuxn2W.R77B2C5OZ.IEanKVQY755JABes2WOlx30PcbnlsqKNG_GpEj0eANQkG_jpOHd6blIYRK.BOrB6oIaiOx6bzHiwV.BrUSNx99GttzdWki9qaUA.X92xI5sfeZuMTfDXJFQTAaCxUPKpirPfkzWQBDkQb4F15SzwGyN_KCh1vrstbUlhFV7LvsNgS_Sm6aRdUiXDeZ847wzyuA_rapjU31BwNme84E3a6cKM3R96e3K7X_rJvtmBdT6MJZzRhdBsHHg7r62OwFbCMC34a_ocHGjDaacEAZ825W_mw4VPJiz0grjulrEWxbz_pj.gltDBQuPMVAf_shqpuaSAeUW01Qf2QE.iPbHq5fVdoyKWaIpmr_NrkzKeRMyQzGJZ3eIM_FZTicg5Dn8DbNyxAwv5g02bsyXH0zmFxLNcfYyoDT8Aao54Xq5lRSsNN0seGVLIPmN82.dlPyHUXUlPpV_whzXU1Ve3ppSJmJWic8hORhHE4aY0ZTKPHgBYP1DotWwiX5vy5ty0zZaDZTCh1vEqputnYy_JhWWBzdFNCaoLN3zVDnvRDYD3Epihuz0PmT2e3hMNbQuwqjbOFA_4pEr65IQuWslaq2dIykizlmtods5jkCMYzqeQVBh9C4AXzAlFcCU4KvdOfXeYKupaHI5Lwj9SyL5N2bj2lQrTbCCcAcWowRVy.0t_ShjyIVxnNvFlh5UTchHUtqFZ.WHV_.9sj95BFD9DGHEecqeyzl2JvgS8Ynfkaxf8P5R8AwEDKnnxyNS0BK3AI0Ge4oMKhqPbLz.IiWJ3_FghvtkaeCi3pL8uL33each174S4wyxik6WzRbtofJyhnVXYL0.GgkQlqwa2dd6IhI1vy3kMtx5QL7OMzQ2CMTnT4lKR16A2hs43npgt5RkXOum3Dh0rZJhvQ.4Bii6lQ63prKmZK89tsHT1PaZD7zoAEmN9b.RzcnakCkbRPVCxh7jh7aV0b9c7kt7cHra45hibk1zYywNWv_6jyGWnU0mPR4.Y7tErvFxahIrZqLXxUU5PwShv4xVCbAGmSaxHj8r18bFrLLfDSrOk6EflvIshhlnzaRnvvreRERdvQA2qPoN7zcIqhCawbDCeKTiMw3byzITA_vL66BQlxgl085..3qDE1uXGHF83h4s2AUj_b6KGAQ6UmMGMNvCFzNlJnrMN6FxtjmVCRZL4C8X2G4LNIm7NWKg7M2hdglaLLifqT3ytQtoZrbjTiegY.ghPeFgnc7neTgzJIwA7Fzf0uzC0elXbTp_Xf.rp6jgVIUMiNZlyHYPo19d78PEUJMj1xvEVquh8FPBHjkioy8z03ywFGwkoqaZFY0QofGnPqlphwHJBYBUpBwuZT8YC5G06vFu88uaokqW0Dygq2_cmI5sKsX3YUPAbeRRGkk6ZQaVqJcoyPhg2420ji7Biye6XkfNUKrthUL9oT3sWx0MNbXrCPvqjUkdH3WH0PPmBVbMreu5QDklcdV03vu1yI0xNYuuWNDAU7r7GL0_KI_R..6IbhMNYVPIk80ES99gcM9AzA5TbTkuH5eJfStkQOg0YpukqbZCEH.KOgkD8CYNfS2GLVndEriNiBFKAbUVNs8NNWZ.Lb3YsOJB3YVY9LeFO7Oz_uT_K8ZcmsypZejuEiHNS0j_5tv48vANkKeCOORzT5em.MAdqojbZB71ldrZeGUgdDv3RGecazeUYq1LtDFYGQKk\"};var cpo = document.createElement('script');cpo.src = '/cdn-cgi/challenge-platform/h/g/orchestrate/chl_page/v1?ray=920841d37e11a2e1';window._cf_chl_opt.cOgUHash = location.hash === '' && location.href.indexOf('#') !== -1 ? '#' : location.hash;window._cf_chl_opt.cOgUQuery = location.search === '' && location.href.slice(0, location.href.length - window._cf_chl_opt.cOgUHash.length).indexOf('?') !== -1 ? '?' : location.search;if (window.history && window.history.replaceState) {var ogU = location.pathname + window._cf_chl_opt.cOgUQuery + window._cf_chl_opt.cOgUHash;history.replaceState(null, null, \"\\/en\\/squads\\/69a0fb10\\/2024\\/New-York-Red-Bulls-Stats?__cf_chl_rt_tk=3_PTR1lrDyXrLC3kjhNo2x4mRQOGQlMLy1wmjUtONVA-1742002348-1.0.1.1-3yh2_vIzlsopn3uDDfqyru7DGdxyd83wHOWhTKpOhb0\" + window._cf_chl_opt.cOgUHash);cpo.onload = function() {history.replaceState(null, null, ogU);}}document.getElementsByTagName('head')[0].appendChild(cpo);}());</script></body></html>\n"
     ]
    }
   ],
   "source": [
    "print(soup)"
   ]
  },
  {
   "cell_type": "code",
   "execution_count": 11,
   "metadata": {},
   "outputs": [
    {
     "data": {
      "text/plain": [
       "[]"
      ]
     },
     "execution_count": 11,
     "metadata": {},
     "output_type": "execute_result"
    }
   ],
   "source": [
    "soup.find_all('stats_table')"
   ]
  }
 ],
 "metadata": {
  "kernelspec": {
   "display_name": "Python 3",
   "language": "python",
   "name": "python3"
  },
  "language_info": {
   "codemirror_mode": {
    "name": "ipython",
    "version": 3
   },
   "file_extension": ".py",
   "mimetype": "text/x-python",
   "name": "python",
   "nbconvert_exporter": "python",
   "pygments_lexer": "ipython3",
   "version": "3.13.0"
  }
 },
 "nbformat": 4,
 "nbformat_minor": 2
}
